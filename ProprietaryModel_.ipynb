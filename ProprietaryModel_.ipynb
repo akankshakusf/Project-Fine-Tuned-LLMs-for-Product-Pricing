{
  "nbformat": 4,
  "nbformat_minor": 0,
  "metadata": {
    "colab": {
      "provenance": [],
      "gpuType": "T4",
      "authorship_tag": "ABX9TyMnzsx8D+ToSjBfzbIHk9fc",
      "include_colab_link": true
    },
    "kernelspec": {
      "name": "python3",
      "display_name": "Python 3"
    },
    "language_info": {
      "name": "python"
    },
    "accelerator": "GPU"
  },
  "cells": [
    {
      "cell_type": "markdown",
      "metadata": {
        "id": "view-in-github",
        "colab_type": "text"
      },
      "source": [
        "<a href=\"https://colab.research.google.com/github/akankshakusf/Project-Fine-Tuned-LLMs-for-Product-Pricing/blob/master/ProprietaryModel_.ipynb\" target=\"_parent\"><img src=\"https://colab.research.google.com/assets/colab-badge.svg\" alt=\"Open In Colab\"/></a>"
      ]
    },
    {
      "cell_type": "markdown",
      "source": [
        "# Predict Product Prices"
      ],
      "metadata": {
        "id": "OG_MsQbw2X5r"
      }
    },
    {
      "cell_type": "code",
      "execution_count": 2,
      "metadata": {
        "colab": {
          "base_uri": "https://localhost:8080/"
        },
        "id": "VTvr5nae2WFJ",
        "outputId": "35b2018a-24dd-4041-9fff-b8a4fba912dd"
      },
      "outputs": [
        {
          "output_type": "stream",
          "name": "stdout",
          "text": [
            "\u001b[?25l   \u001b[90m━━━━━━━━━━━━━━━━━━━━━━━━━━━━━━━━━━━━━━━━\u001b[0m \u001b[32m0.0/1.2 MB\u001b[0m \u001b[31m?\u001b[0m eta \u001b[36m-:--:--\u001b[0m\r\u001b[2K   \u001b[91m━━━━━━\u001b[0m\u001b[90m╺\u001b[0m\u001b[90m━━━━━━━━━━━━━━━━━━━━━━━━━━━━━━━━━\u001b[0m \u001b[32m0.2/1.2 MB\u001b[0m \u001b[31m5.4 MB/s\u001b[0m eta \u001b[36m0:00:01\u001b[0m\r\u001b[2K   \u001b[91m━━━━━━━━━━━━━━━━━━━━━━━━━━━━━━━━━━━\u001b[0m\u001b[91m╸\u001b[0m\u001b[90m━━━━\u001b[0m \u001b[32m1.1/1.2 MB\u001b[0m \u001b[31m15.3 MB/s\u001b[0m eta \u001b[36m0:00:01\u001b[0m\r\u001b[2K   \u001b[90m━━━━━━━━━━━━━━━━━━━━━━━━━━━━━━━━━━━━━━━━\u001b[0m \u001b[32m1.2/1.2 MB\u001b[0m \u001b[31m12.0 MB/s\u001b[0m eta \u001b[36m0:00:00\u001b[0m\n",
            "\u001b[?25h"
          ]
        }
      ],
      "source": [
        "# pip installs\n",
        "!pip install -q datasets \\\n",
        "                requests \\\n",
        "                torch \\\n",
        "                peft \\\n",
        "                bitsandbytes \\\n",
        "                transformers \\\n",
        "                trl \\\n",
        "                accelerate \\\n",
        "                sentencepiece\\\n",
        "                tiktoken \\\n",
        "                matplotlib"
      ]
    },
    {
      "cell_type": "code",
      "source": [
        "#import packages\n",
        "import os\n",
        "import re\n",
        "import tqdm\n",
        "import math\n",
        "from google.colab import userdata\n",
        "from huggingface_hub import login\n",
        "import torch\n",
        "import transformers\n",
        "from transformers import AutoTokenizer, AutoModelForCausalLM, BitsAndBytesConfig,\\\n",
        "                                  TrainingArguments, set_seed\n",
        "from peft import LoraConfig, PeftModel\n",
        "from datasets import load_dataset, Dataset, DatasetDict\n",
        "from datetime import datetime\n",
        "import matplotlib.pyplot as plt\n",
        ""
      ],
      "metadata": {
        "id": "TEYA067S51vO"
      },
      "execution_count": 3,
      "outputs": []
    },
    {
      "cell_type": "code",
      "source": [
        "#tokenizers\n",
        "LLAMA_3_1 = \"meta-llama/Meta-Llama-3.1-8B\"\n",
        "QWEN_2_5 = \"Qwen/Qwen2.5-7B\"\n",
        "GEMMA_2 = \"google/gemma-2-9b\"\n",
        "PHI_3 = \"microsoft/Phi-3-medium-4k-instruct\"\n",
        "\n",
        "#constants\n",
        "BASE_MODEL = LLAMA_3_1\n",
        "HF_USER = \"akankshakusf\"\n",
        "DATASET_NAME = f\"{HF_USER}/pricer-data\"\n",
        "MAX_SEQUENCE_LENGTH = 182\n",
        "QUANT_4_BIT = True\n",
        "\n",
        "# Used for writing to output in color\n",
        "GREEN = \"\\033[92m\"\n",
        "YELLOW = \"\\033[93m\"\n",
        "RED = \"\\033[91m\"\n",
        "RESET = \"\\033[0m\"\n",
        "COLOR_MAP = {\"red\":RED, \"orange\": YELLOW, \"green\": GREEN}\n",
        "\n",
        "%matplotlib inline"
      ],
      "metadata": {
        "id": "DuZilrcf7AYm"
      },
      "execution_count": 4,
      "outputs": []
    },
    {
      "cell_type": "code",
      "source": [
        "# Log in to HuggingFace\n",
        "hf_token = userdata.get('HF_TOKEN')\n",
        "login(hf_token, add_to_git_credential=True)"
      ],
      "metadata": {
        "id": "zJbx2rft_kk6"
      },
      "execution_count": 5,
      "outputs": []
    },
    {
      "cell_type": "code",
      "source": [
        "def investigate_tokenizer(model_name):\n",
        "  print(\"Investigating tokenizers for\", model_name)\n",
        "  #initialize the tokenizer from hugging face\n",
        "  tokenizer=AutoTokenizer.from_pretrained(model_name, trust_remote_code= True)\n",
        "\n",
        "  #testing for below numbers\n",
        "  for number in [0,1,10,100,999,1000]:\n",
        "    #run tokenizer\n",
        "    tokens=tokenizer.encode(str(number), add_special_tokens= False)\n",
        "    print(f\"The tokens for {number}:{tokens}\")"
      ],
      "metadata": {
        "id": "UAd_-tnf_l4-"
      },
      "execution_count": 6,
      "outputs": []
    },
    {
      "cell_type": "code",
      "source": [
        "# Now we will try this with each model: LLAMA_3_1, QWEN_2_5, GEMMA_2, PHI_3\n",
        "print(investigate_tokenizer(LLAMA_3_1))\n",
        "print(investigate_tokenizer(QWEN_2_5))\n",
        "print(investigate_tokenizer(PHI_3))"
      ],
      "metadata": {
        "colab": {
          "base_uri": "https://localhost:8080/"
        },
        "id": "4iVczlIdBQJr",
        "outputId": "2957494e-c130-4aae-b8bb-c30570904210"
      },
      "execution_count": 8,
      "outputs": [
        {
          "output_type": "stream",
          "name": "stdout",
          "text": [
            "Investigating tokenizers for meta-llama/Meta-Llama-3.1-8B\n",
            "The tokens for 0:[15]\n",
            "The tokens for 1:[16]\n",
            "The tokens for 10:[605]\n",
            "The tokens for 100:[1041]\n",
            "The tokens for 999:[5500]\n",
            "The tokens for 1000:[1041, 15]\n",
            "None\n",
            "Investigating tokenizers for Qwen/Qwen2.5-7B\n",
            "The tokens for 0:[15]\n",
            "The tokens for 1:[16]\n",
            "The tokens for 10:[16, 15]\n",
            "The tokens for 100:[16, 15, 15]\n",
            "The tokens for 999:[24, 24, 24]\n",
            "The tokens for 1000:[16, 15, 15, 15]\n",
            "None\n",
            "Investigating tokenizers for microsoft/Phi-3-medium-4k-instruct\n",
            "The tokens for 0:[29871, 29900]\n",
            "The tokens for 1:[29871, 29896]\n",
            "The tokens for 10:[29871, 29896, 29900]\n",
            "The tokens for 100:[29871, 29896, 29900, 29900]\n",
            "The tokens for 999:[29871, 29929, 29929, 29929]\n",
            "The tokens for 1000:[29871, 29896, 29900, 29900, 29900]\n",
            "None\n"
          ]
        }
      ]
    },
    {
      "cell_type": "markdown",
      "source": [
        "As you can see:\n",
        "- In **LLaMA 3.1**, numbers up to **3 digits** are tokenized as **a single token**, and 4-digit numbers like `1000` are split into only **two tokens**.\n",
        "- In contrast, **Qwen2.5** tends to tokenize **digit by digit**, even for simple numbers like `10` or `100`, resulting in longer sequences.\n",
        "- And similar for others\n",
        "\n",
        "---\n",
        "\n",
        "This behavior is one of the reasons I'm leaning toward using **LLaMA 3.1** for my project. Since the goal is to **infer product prices** (a regression problem), having compact token representations for numeric values (especially 2–3 digit prices) provides several advantages:\n",
        "\n",
        "- **Shorter and cleaner token sequences**\n",
        "- **Faster inference and training times**\n",
        "- **Better numerical representation and learning efficiency**\n",
        "\n",
        "This makes `Meta-Llama-3.1-8B` a strong candidate for tasks involving numerical reasoning, such as **price prediction**.\n"
      ],
      "metadata": {
        "id": "mon8c77pFhws"
      }
    },
    {
      "cell_type": "code",
      "source": [
        "# Loading My Data from Hugging Face\n",
        "dataset=load_dataset(DATASET_NAME)\n",
        "train= dataset['train']\n",
        "test = dataset['test']"
      ],
      "metadata": {
        "id": "M40MzHeiBkv4"
      },
      "execution_count": 24,
      "outputs": []
    },
    {
      "cell_type": "code",
      "source": [
        "train[0]"
      ],
      "metadata": {
        "colab": {
          "base_uri": "https://localhost:8080/"
        },
        "id": "M7bBPEVIJOgk",
        "outputId": "6d245f74-a1d2-4029-97c3-34626ecd7d80"
      },
      "execution_count": 10,
      "outputs": [
        {
          "output_type": "execute_result",
          "data": {
            "text/plain": [
              "{'text': 'How much does this cost to the nearest dollar?\\n\\nStar Micronics USB Thermal Receipt Printer with Device and Mfi USB Ports, Auto-cutter, and Internal Power Supply - Gray (Renewed)\\nHigh-speed printing of 43 receipts per minute with easy to setup USB connection - just Plug and Print; USB serial number feature means the PC will detect the on its Windows platform using any USB port Includes PromoPRNT promotion printing service allowing you to automatically create printed promotions in addition to receipts Drop-In and Print clamshell design allows for fast and easy paper loading; patented De-Curl function always delivers a flat receipt futurePRNT Software allows you to customize receipts to keep customers coming back time and time again with professional graphics (logos, coupons), word-triggered advertising, and more The small footprint and embedded power supply saves precious counter space Brand Star Mic\\n\\nPrice is $207.00',\n",
              " 'price': 207.0}"
            ]
          },
          "metadata": {},
          "execution_count": 10
        }
      ]
    },
    {
      "cell_type": "code",
      "source": [
        "test[0]"
      ],
      "metadata": {
        "colab": {
          "base_uri": "https://localhost:8080/"
        },
        "id": "r-3wv1GbJOXN",
        "outputId": "52a07a72-ab2f-4139-ef26-51519257361e"
      },
      "execution_count": 11,
      "outputs": [
        {
          "output_type": "execute_result",
          "data": {
            "text/plain": [
              "{'text': 'How much does this cost to the nearest dollar?\\n\\nSena Bluetooth Headset and Intercom with Built-In FM Tuner for Scooters/Motorcycles with Universal Microphone Kit, Black, Single\\nSMH5 Bluetooth Headset & Intercom with built-in FM tuner for Scooters and Motorcycles with Universal Microphone Kit. Bluetooth 3.0 Crystal clear and natural sound quality Can be used while charging on road trips Individual volume control for each audio source Firmware upgradeable Brand Sena, Model Name Color Black, Form Factor On Ear, Connectivity Technology Wireless, Is Discontinued No, Dimensions 2.75 x 1.77 x 1.2 inches; 1.41 Ounces, model number Department Unisex-adult, Batteries Lithium Metal batteries required. (included), Available January 20\\n\\nPrice is $',\n",
              " 'price': 140.49}"
            ]
          },
          "metadata": {},
          "execution_count": 11
        }
      ]
    },
    {
      "cell_type": "markdown",
      "source": [
        "# Prepare  Base Llama Model for evaluation"
      ],
      "metadata": {
        "id": "T3eex7mnCd-k"
      }
    },
    {
      "cell_type": "code",
      "source": [
        "#define the quantization needed\n",
        "if QUANT_4_BIT:\n",
        "  quant_config = BitsAndBytesConfig(\n",
        "    load_in_4bit=True,\n",
        "    bnb_4bit_use_double_quant=True,\n",
        "    bnb_4bit_compute_dtype=torch.bfloat16,\n",
        "    bnb_4bit_quant_type=\"nf4\"\n",
        "  )\n",
        "else:\n",
        "  quant_config = BitsAndBytesConfig(\n",
        "    load_in_8bit=True,\n",
        "    bnb_8bit_compute_dtype=torch.bfloat16\n",
        "  )"
      ],
      "metadata": {
        "id": "DqBUT-POCZ_j"
      },
      "execution_count": 12,
      "outputs": []
    },
    {
      "cell_type": "code",
      "source": [
        "#Load the Tokenizer and the Model from hugging face\n",
        "tokenizer = AutoTokenizer.from_pretrained(BASE_MODEL, trust_remote_code=True)\n",
        "tokenizer.pad_token = tokenizer.eos_token\n",
        "tokenizer.padding_side = \"right\" ###add eos to the right\n",
        "\n",
        "base_model = AutoModelForCausalLM.from_pretrained(\n",
        "    BASE_MODEL,\n",
        "    quantization_config=quant_config,\n",
        "    device_map=\"auto\",\n",
        ")\n",
        "\n",
        "#add padding\n",
        "base_model.generation_config.pad_token_id = tokenizer.pad_token_id\n",
        "\n",
        "print(f\"Memory footprint: {base_model.get_memory_footprint() / 1e9:.1f} GB\")"
      ],
      "metadata": {
        "id": "evr_uwrJJBEQ"
      },
      "execution_count": 24,
      "outputs": []
    },
    {
      "cell_type": "code",
      "source": [
        "#remember we drop anything special besides price\n",
        "def extract_price(s):\n",
        "    if \"Price is $\" in s:\n",
        "      contents = s.split(\"Price is $\")[1]\n",
        "      contents = contents.replace(',','').replace('$','')\n",
        "      match = re.search(r\"[-+]?\\d*\\.\\d+|\\d+\", contents)\n",
        "      return float(match.group()) if match else 0\n",
        "    return 0"
      ],
      "metadata": {
        "id": "YnncPveMJBCb"
      },
      "execution_count": 16,
      "outputs": []
    },
    {
      "cell_type": "code",
      "source": [
        "extract_price(\"Price is $999 blah blah so cheap\")"
      ],
      "metadata": {
        "colab": {
          "base_uri": "https://localhost:8080/"
        },
        "id": "l8xV47oLPNrE",
        "outputId": "6185c272-0fe9-4313-dcb4-61e19acf5532"
      },
      "execution_count": 18,
      "outputs": [
        {
          "output_type": "execute_result",
          "data": {
            "text/plain": [
              "999.0"
            ]
          },
          "metadata": {},
          "execution_count": 18
        }
      ]
    },
    {
      "cell_type": "markdown",
      "source": [
        "- As our dataset has prompt and price pair, we feed prompt to the below function"
      ],
      "metadata": {
        "id": "KHcEmcZyRFXs"
      }
    },
    {
      "cell_type": "code",
      "source": [
        "def model_predict(prompt):\n",
        "    # Set random seed for reproducibility\n",
        "    set_seed(42)\n",
        "\n",
        "    # Tokenize the input prompt and move it to GPU\n",
        "    inputs = tokenizer.encode(prompt, return_tensors=\"pt\").to(\"cuda\")\n",
        "\n",
        "    # Create an attention mask (all tokens attended to)\n",
        "    attention_mask = torch.ones(inputs.shape, device=\"cuda\")\n",
        "\n",
        "    # Generate output tokens from the model (max 4 new tokens)\n",
        "    outputs = base_model.generate(\n",
        "        inputs,\n",
        "        max_new_tokens=4,\n",
        "        attention_mask=attention_mask,\n",
        "        num_return_sequences=1\n",
        "    )\n",
        "\n",
        "    # Decode the generated tokens into text\n",
        "    response = tokenizer.decode(outputs[0])\n",
        "\n",
        "    # Extract the predicted price from the decoded response\n",
        "    return extract_price(response)\n"
      ],
      "metadata": {
        "id": "vu41k_1yPPAO"
      },
      "execution_count": 20,
      "outputs": []
    },
    {
      "cell_type": "code",
      "source": [
        "test[0]"
      ],
      "metadata": {
        "colab": {
          "base_uri": "https://localhost:8080/"
        },
        "id": "iWOC7WsHQcUB",
        "outputId": "34a1ea24-7d17-40ee-fed9-fa05a2263032"
      },
      "execution_count": 22,
      "outputs": [
        {
          "output_type": "execute_result",
          "data": {
            "text/plain": [
              "{'text': 'How much does this cost to the nearest dollar?\\n\\nSena Bluetooth Headset and Intercom with Built-In FM Tuner for Scooters/Motorcycles with Universal Microphone Kit, Black, Single\\nSMH5 Bluetooth Headset & Intercom with built-in FM tuner for Scooters and Motorcycles with Universal Microphone Kit. Bluetooth 3.0 Crystal clear and natural sound quality Can be used while charging on road trips Individual volume control for each audio source Firmware upgradeable Brand Sena, Model Name Color Black, Form Factor On Ear, Connectivity Technology Wireless, Is Discontinued No, Dimensions 2.75 x 1.77 x 1.2 inches; 1.41 Ounces, model number Department Unisex-adult, Batteries Lithium Metal batteries required. (included), Available January 20\\n\\nPrice is $',\n",
              " 'price': 140.49}"
            ]
          },
          "metadata": {},
          "execution_count": 22
        }
      ]
    },
    {
      "cell_type": "code",
      "source": [
        "model_predict(test[0]['text'])"
      ],
      "metadata": {
        "colab": {
          "base_uri": "https://localhost:8080/"
        },
        "id": "QBVvJJZuJA__",
        "outputId": "2413adf2-1094-4409-9048-db2214395337"
      },
      "execution_count": 21,
      "outputs": [
        {
          "output_type": "execute_result",
          "data": {
            "text/plain": [
              "59.95"
            ]
          },
          "metadata": {},
          "execution_count": 21
        }
      ]
    },
    {
      "cell_type": "markdown",
      "source": [
        "# Evaluation\n",
        "\n",
        "- Trying out our base Llama 3.1 model against the Test dataset"
      ],
      "metadata": {
        "id": "kZAmU7q-NrV4"
      }
    },
    {
      "cell_type": "code",
      "source": [
        "class Tester:\n",
        "\n",
        "    def __init__(self, predictor, data, title=None, size=250):\n",
        "        self.predictor = predictor\n",
        "        self.data = data\n",
        "        self.title = title or predictor.__name__.replace(\"_\", \" \").title()\n",
        "        self.size = size\n",
        "        self.guesses = []\n",
        "        self.truths = []\n",
        "        self.errors = []\n",
        "        self.sles = []\n",
        "        self.colors = []\n",
        "\n",
        "    def color_for(self, error, truth):\n",
        "        if error<40 or error/truth < 0.2:\n",
        "            return \"green\"\n",
        "        elif error<80 or error/truth < 0.4:\n",
        "            return \"orange\"\n",
        "        else:\n",
        "            return \"red\"\n",
        "\n",
        "    def run_datapoint(self, i):\n",
        "        datapoint = self.data[i]\n",
        "        guess = self.predictor(datapoint[\"text\"])\n",
        "        truth = datapoint[\"price\"]\n",
        "        error = abs(guess - truth)\n",
        "        log_error = math.log(truth+1) - math.log(guess+1)\n",
        "        sle = log_error ** 2\n",
        "        color = self.color_for(error, truth)\n",
        "        title = datapoint[\"text\"].split(\"\\n\\n\")[1][:20] + \"...\"\n",
        "        self.guesses.append(guess)\n",
        "        self.truths.append(truth)\n",
        "        self.errors.append(error)\n",
        "        self.sles.append(sle)\n",
        "        self.colors.append(color)\n",
        "        print(f\"{COLOR_MAP[color]}{i+1}: Guess: ${guess:,.2f} Truth: ${truth:,.2f} Error: ${error:,.2f} SLE: {sle:,.2f} Item: {title}{RESET}\")\n",
        "\n",
        "    def chart(self, title):\n",
        "        max_error = max(self.errors)\n",
        "        plt.figure(figsize=(12, 8))\n",
        "        max_val = max(max(self.truths), max(self.guesses))\n",
        "        plt.plot([0, max_val], [0, max_val], color='deepskyblue', lw=2, alpha=0.6)\n",
        "        plt.scatter(self.truths, self.guesses, s=3, c=self.colors)\n",
        "        plt.xlabel('Ground Truth')\n",
        "        plt.ylabel('Model Estimate')\n",
        "        plt.xlim(0, max_val)\n",
        "        plt.ylim(0, max_val)\n",
        "        plt.title(title)\n",
        "        plt.show()\n",
        "\n",
        "    def report(self):\n",
        "        average_error = sum(self.errors) / self.size\n",
        "        rmsle = math.sqrt(sum(self.sles) / self.size)\n",
        "        hits = sum(1 for color in self.colors if color==\"green\")\n",
        "        title = f\"{self.title} Error=${average_error:,.2f} RMSLE={rmsle:,.2f} Hits={hits/self.size*100:.1f}%\"\n",
        "        self.chart(title)\n",
        "\n",
        "    def run(self):\n",
        "        self.error = 0\n",
        "        for i in range(self.size):\n",
        "            self.run_datapoint(i)\n",
        "        self.report()\n",
        "\n",
        "    @classmethod\n",
        "    def test(cls, function, data):\n",
        "        cls(function, data).run()"
      ],
      "metadata": {
        "id": "bZYL3MUiJA9k"
      },
      "execution_count": 23,
      "outputs": []
    },
    {
      "cell_type": "code",
      "source": [
        "# test the model\n",
        "Tester.test(model_predict,test)"
      ],
      "metadata": {
        "colab": {
          "base_uri": "https://localhost:8080/",
          "height": 1000
        },
        "id": "R-YYmN0VJA6i",
        "outputId": "46e6fc8a-17b9-46d4-a7b4-3ef345be4171"
      },
      "execution_count": 24,
      "outputs": [
        {
          "output_type": "stream",
          "name": "stdout",
          "text": [
            "\u001b[91m1: Guess: $59.95 Truth: $140.49 Error: $80.54 SLE: 0.71 Item: Sena Bluetooth Heads...\u001b[0m\n",
            "\u001b[91m2: Guess: $1,999.00 Truth: $347.99 Error: $1,651.01 SLE: 3.05 Item: ONINE Thruster Drop ...\u001b[0m\n",
            "\u001b[91m3: Guess: $54.99 Truth: $228.00 Error: $173.01 SLE: 1.98 Item: Max Factory K-ON! Mi...\u001b[0m\n",
            "\u001b[92m4: Guess: $25.00 Truth: $43.99 Error: $18.99 SLE: 0.30 Item: Gear Head RC 1/10 Sc...\u001b[0m\n",
            "\u001b[91m5: Guess: $299.00 Truth: $117.25 Error: $181.75 SLE: 0.87 Item: lenovo ThinkCentre M...\u001b[0m\n",
            "\u001b[91m6: Guess: $25.00 Truth: $107.99 Error: $82.99 SLE: 2.05 Item: Retractable Cargo Co...\u001b[0m\n",
            "\u001b[92m7: Guess: $19.99 Truth: $52.99 Error: $33.00 SLE: 0.89 Item: Jiayouy Guitar Repai...\u001b[0m\n",
            "\u001b[92m8: Guess: $25.00 Truth: $49.99 Error: $24.99 SLE: 0.45 Item: Spec-D Tuning Honda ...\u001b[0m\n",
            "\u001b[93m9: Guess: $1.00 Truth: $73.00 Error: $72.00 SLE: 13.04 Item: Fuel Tank Float - SI...\u001b[0m\n",
            "\u001b[93m10: Guess: $299.00 Truth: $249.00 Error: $50.00 SLE: 0.03 Item: KICKINGHORSE F130 CS...\u001b[0m\n",
            "\u001b[93m11: Guess: $299.99 Truth: $249.99 Error: $50.00 SLE: 0.03 Item: Xiaomi Redmi Note 11...\u001b[0m\n",
            "\u001b[93m12: Guess: $25.00 Truth: $78.29 Error: $53.29 SLE: 1.24 Item: Evan Fischer Valance...\u001b[0m\n",
            "\u001b[91m13: Guess: $1,800.00 Truth: $299.99 Error: $1,500.01 SLE: 3.20 Item: Possini Euro Design ...\u001b[0m\n",
            "\u001b[91m14: Guess: $25.00 Truth: $451.20 Error: $426.20 SLE: 8.16 Item: Associated Equipment...\u001b[0m\n",
            "\u001b[91m15: Guess: $299.00 Truth: $671.99 Error: $372.99 SLE: 0.65 Item: HP LaserJet Enterpri...\u001b[0m\n",
            "\u001b[91m16: Guess: $68.00 Truth: $385.66 Error: $317.66 SLE: 2.97 Item: Rolls RM68 Zone Wolf...\u001b[0m\n",
            "\u001b[91m17: Guess: $1,800.00 Truth: $107.95 Error: $1,692.05 SLE: 7.87 Item: Antminer S9 @0.1 W/G...\u001b[0m\n",
            "\u001b[92m18: Guess: $19.99 Truth: $55.15 Error: $35.16 SLE: 0.97 Item: Pink Linen Copper/Ro...\u001b[0m\n",
            "\u001b[91m19: Guess: $25.00 Truth: $149.10 Error: $124.10 SLE: 3.07 Item: Metra Single/Double ...\u001b[0m\n",
            "\u001b[93m20: Guess: $25.99 Truth: $66.59 Error: $40.60 SLE: 0.84 Item: Royal Sovereign Elec...\u001b[0m\n",
            "\u001b[91m21: Guess: $1,800.00 Truth: $582.59 Error: $1,217.41 SLE: 1.27 Item: Eemax / 3x8 Gauge\n",
            "Pr...\u001b[0m\n",
            "\u001b[92m22: Guess: $25.00 Truth: $49.00 Error: $24.00 SLE: 0.43 Item: HySafety Cowhide Lea...\u001b[0m\n",
            "\u001b[91m23: Guess: $54.95 Truth: $165.52 Error: $110.57 SLE: 1.19 Item: EBC Brakes Yellowstu...\u001b[0m\n",
            "\u001b[91m24: Guess: $60.00 Truth: $184.17 Error: $124.17 SLE: 1.23 Item: Grandview Gallery Vi...\u001b[0m\n",
            "\u001b[91m25: Guess: $7.50 Truth: $280.37 Error: $272.87 SLE: 12.25 Item: Mopar Battery Cable-...\u001b[0m\n",
            "\u001b[91m26: Guess: $1,800.00 Truth: $404.00 Error: $1,396.00 SLE: 2.23 Item: Fantech RE8XL Series...\u001b[0m\n",
            "\u001b[92m27: Guess: $299.00 Truth: $265.49 Error: $33.51 SLE: 0.01 Item: Onkyo Network Audio/...\u001b[0m\n",
            "\u001b[91m28: Guess: $25.00 Truth: $239.99 Error: $214.99 SLE: 4.96 Item: Garmin Fusion® FM Se...\u001b[0m\n",
            "\u001b[91m29: Guess: $299.99 Truth: $198.86 Error: $101.13 SLE: 0.17 Item: WD Black 5TB Perform...\u001b[0m\n",
            "\u001b[92m30: Guess: $1.00 Truth: $6.99 Error: $5.99 SLE: 1.92 Item: TreeArm Hard Hat Sti...\u001b[0m\n",
            "\u001b[91m31: Guess: $1,800.00 Truth: $185.05 Error: $1,614.95 SLE: 5.15 Item: Lexmark Transfer Mod...\u001b[0m\n",
            "\u001b[92m32: Guess: $25.00 Truth: $16.99 Error: $8.01 SLE: 0.14 Item: UpBright 24V AC/DC A...\u001b[0m\n",
            "\u001b[91m33: Guess: $1,800.00 Truth: $278.83 Error: $1,521.17 SLE: 3.47 Item: Tusk Cargo Rack Blac...\u001b[0m\n",
            "\u001b[91m34: Guess: $1,999.00 Truth: $90.00 Error: $1,909.00 SLE: 9.55 Item: Athena AS0 SATA Cont...\u001b[0m\n",
            "\u001b[91m35: Guess: $110.00 Truth: $299.00 Error: $189.00 SLE: 0.99 Item: Tuffy Security Produ...\u001b[0m\n",
            "\u001b[91m36: Guess: $25.00 Truth: $134.00 Error: $109.00 SLE: 2.71 Item: CFKIT Maintenance Fi...\u001b[0m\n",
            "\u001b[93m37: Guess: $220.00 Truth: $328.71 Error: $108.71 SLE: 0.16 Item: Power Stop Front Z26...\u001b[0m\n",
            "\u001b[91m38: Guess: $1,999.00 Truth: $259.00 Error: $1,740.00 SLE: 4.16 Item: Fanwin Star Tempered...\u001b[0m\n",
            "\u001b[92m39: Guess: $25.00 Truth: $37.91 Error: $12.91 SLE: 0.16 Item: Kelly Mouthpieces Tr...\u001b[0m\n",
            "\u001b[93m40: Guess: $25.00 Truth: $87.99 Error: $62.99 SLE: 1.51 Item: Solo Paramount 16 In...\u001b[0m\n",
            "\u001b[93m41: Guess: $299.00 Truth: $399.00 Error: $100.00 SLE: 0.08 Item: Pacific Coast Lighti...\u001b[0m\n",
            "\u001b[91m42: Guess: $1,800.00 Truth: $175.50 Error: $1,624.50 SLE: 5.40 Item: 3 STAGE, INDUSTRIAL ...\u001b[0m\n",
            "\u001b[91m43: Guess: $299.00 Truth: $549.00 Error: $250.00 SLE: 0.37 Item: Ergotron – LearnFit ...\u001b[0m\n",
            "\u001b[92m44: Guess: $25.00 Truth: $64.99 Error: $39.99 SLE: 0.87 Item: X8 Drums Red and Bla...\u001b[0m\n",
            "\u001b[91m45: Guess: $19.99 Truth: $189.99 Error: $170.00 SLE: 4.88 Item: ASURION 3 Year Toy A...\u001b[0m\n",
            "\u001b[93m46: Guess: $25.00 Truth: $85.38 Error: $60.38 SLE: 1.44 Item: GGBAILEY Black Loop ...\u001b[0m\n",
            "\u001b[91m47: Guess: $7.50 Truth: $238.94 Error: $231.44 SLE: 11.16 Item: HP Q6582A Universal ...\u001b[0m\n",
            "\u001b[92m48: Guess: $25.00 Truth: $59.72 Error: $34.72 SLE: 0.72 Item: Samsung Laptop LCD S...\u001b[0m\n",
            "\u001b[91m49: Guess: $1,800.00 Truth: $681.70 Error: $1,118.30 SLE: 0.94 Item: Gibson 615536 Stainl...\u001b[0m\n",
            "\u001b[91m50: Guess: $25.00 Truth: $146.27 Error: $121.27 SLE: 3.01 Item: Dorman Windshield Wi...\u001b[0m\n",
            "\u001b[91m51: Guess: $25.00 Truth: $150.99 Error: $125.99 SLE: 3.12 Item: Warehouse of Tiffany...\u001b[0m\n",
            "\u001b[91m52: Guess: $7.99 Truth: $93.74 Error: $85.75 SLE: 5.55 Item: LEGO Ninjago Venomar...\u001b[0m\n",
            "\u001b[91m53: Guess: $1,800.00 Truth: $320.99 Error: $1,479.01 SLE: 2.96 Item: Westin Signature Ser...\u001b[0m\n",
            "\u001b[93m54: Guess: $25.00 Truth: $69.99 Error: $44.99 SLE: 1.01 Item: Edge Supply White Oa...\u001b[0m\n",
            "\u001b[92m55: Guess: $1.00 Truth: $0.89 Error: $0.11 SLE: 0.00 Item: Magic The Gathering ...\u001b[0m\n",
            "\u001b[91m56: Guess: $25.00 Truth: $299.00 Error: $274.00 SLE: 5.98 Item: Questech Décor Schlu...\u001b[0m\n",
            "\u001b[93m57: Guess: $25.00 Truth: $79.90 Error: $54.90 SLE: 1.29 Item: EZAccessory 2 Billet...\u001b[0m\n",
            "\u001b[93m58: Guess: $25.00 Truth: $71.50 Error: $46.50 SLE: 1.05 Item: Astro Pneumatic Tool...\u001b[0m\n",
            "\u001b[93m59: Guess: $25.00 Truth: $74.21 Error: $49.21 SLE: 1.13 Item: Padded Divider for 9...\u001b[0m\n",
            "\u001b[92m60: Guess: $25.00 Truth: $25.95 Error: $0.95 SLE: 0.00 Item: Hot Wheels Monster J...\u001b[0m\n",
            "\u001b[91m61: Guess: $25.00 Truth: $132.99 Error: $107.99 SLE: 2.69 Item: Sea Gull Lighting Hu...\u001b[0m\n",
            "\u001b[91m62: Guess: $1,999.00 Truth: $257.55 Error: $1,741.45 SLE: 4.19 Item: AmScope Siedentopf B...\u001b[0m\n",
            "\u001b[91m63: Guess: $1,800.00 Truth: $121.65 Error: $1,678.35 SLE: 7.22 Item: Monroe Air Spring to...\u001b[0m\n",
            "\u001b[92m64: Guess: $25.99 Truth: $41.88 Error: $15.89 SLE: 0.21 Item: DEXULESA Modern Crys...\u001b[0m\n",
            "\u001b[91m65: Guess: $25.00 Truth: $219.95 Error: $194.95 SLE: 4.58 Item: Crosley Dansette Ber...\u001b[0m\n",
            "\u001b[92m66: Guess: $25.00 Truth: $42.99 Error: $17.99 SLE: 0.28 Item: Skechers Memory Foam...\u001b[0m\n",
            "\u001b[91m67: Guess: $1,800.00 Truth: $375.69 Error: $1,424.31 SLE: 2.45 Item: Putco Classic Locker...\u001b[0m\n",
            "\u001b[92m68: Guess: $25.00 Truth: $64.99 Error: $39.99 SLE: 0.87 Item: Dura-Gold Pro Series...\u001b[0m\n",
            "\u001b[91m69: Guess: $25.00 Truth: $165.48 Error: $140.48 SLE: 3.45 Item: LEGO Education Blue ...\u001b[0m\n",
            "\u001b[91m70: Guess: $25.00 Truth: $408.50 Error: $383.50 SLE: 7.60 Item: Brock Replacement Dr...\u001b[0m\n",
            "\u001b[93m71: Guess: $299.00 Truth: $229.99 Error: $69.01 SLE: 0.07 Item: Ibanez TCY10E Talman...\u001b[0m\n",
            "\u001b[93m72: Guess: $299.00 Truth: $215.55 Error: $83.45 SLE: 0.11 Item: Calibrite ColorCheck...\u001b[0m\n",
            "\u001b[93m73: Guess: $299.99 Truth: $399.99 Error: $100.00 SLE: 0.08 Item: K&N Cold Air Intake ...\u001b[0m\n",
            "\u001b[91m74: Guess: $1,800.00 Truth: $368.70 Error: $1,431.30 SLE: 2.51 Item: Videojet OEM Quality...\u001b[0m\n",
            "\u001b[91m75: Guess: $19.99 Truth: $119.00 Error: $99.01 SLE: 3.04 Item: Case of Clear Uline ...\u001b[0m\n",
            "\u001b[91m76: Guess: $25.99 Truth: $203.73 Error: $177.74 SLE: 4.11 Item: VEVOR Electrical Enc...\u001b[0m\n",
            "\u001b[92m77: Guess: $299.00 Truth: $321.12 Error: $22.12 SLE: 0.01 Item: Cobra Front Floorboa...\u001b[0m\n",
            "\u001b[92m78: Guess: $25.99 Truth: $29.59 Error: $3.60 SLE: 0.02 Item: ANJANK Wooden Digita...\u001b[0m\n",
            "\u001b[93m79: Guess: $19.99 Truth: $93.92 Error: $73.93 SLE: 2.28 Item: Valterra Black 94 EZ...\u001b[0m\n",
            "\u001b[92m80: Guess: $25.00 Truth: $62.99 Error: $37.99 SLE: 0.81 Item: A-Premium CV Axle Sh...\u001b[0m\n",
            "\u001b[93m81: Guess: $220.00 Truth: $348.86 Error: $128.86 SLE: 0.21 Item: Power Stop K1139 Fro...\u001b[0m\n",
            "\u001b[91m82: Guess: $299.00 Truth: $503.99 Error: $204.99 SLE: 0.27 Item: Luminance Dorian Eco...\u001b[0m\n",
            "\u001b[91m83: Guess: $25.00 Truth: $125.00 Error: $100.00 SLE: 2.49 Item: Tiffen 77mm Warm Pro...\u001b[0m\n",
            "\u001b[92m84: Guess: $299.00 Truth: $349.00 Error: $50.00 SLE: 0.02 Item: Delta Shopmaster Sli...\u001b[0m\n",
            "\u001b[91m85: Guess: $59.99 Truth: $287.99 Error: $228.00 SLE: 2.42 Item: Mechanix Wear ColdWo...\u001b[0m\n",
            "\u001b[91m86: Guess: $25.00 Truth: $119.99 Error: $94.99 SLE: 2.36 Item: WERFACTORY Tiffany T...\u001b[0m\n",
            "\u001b[91m87: Guess: $25.00 Truth: $113.90 Error: $88.90 SLE: 2.21 Item: Max Factory Fate/Gra...\u001b[0m\n",
            "\u001b[93m88: Guess: $89.95 Truth: $132.99 Error: $43.04 SLE: 0.15 Item: Flowtech Warlock 'BY...\u001b[0m\n",
            "\u001b[91m89: Guess: $25.00 Truth: $305.00 Error: $280.00 SLE: 6.08 Item: Leo Bathroom Wall Mo...\u001b[0m\n",
            "\u001b[91m90: Guess: $1,999.00 Truth: $166.99 Error: $1,832.01 SLE: 6.14 Item: 2 pc Sixity XT Rear ...\u001b[0m\n",
            "\u001b[93m91: Guess: $25.00 Truth: $71.94 Error: $46.94 SLE: 1.06 Item: Monroe Shocks & Stru...\u001b[0m\n",
            "\u001b[91m92: Guess: $1,800.00 Truth: $196.99 Error: $1,603.01 SLE: 4.87 Item: Fit System Passenger...\u001b[0m\n",
            "\u001b[91m93: Guess: $25.00 Truth: $112.57 Error: $87.57 SLE: 2.17 Item: Lowrance HDI Skimmer...\u001b[0m\n",
            "\u001b[93m94: Guess: $19.99 Truth: $64.95 Error: $44.96 SLE: 1.31 Item: Relaxus Lava Lamp 16...\u001b[0m\n",
            "\u001b[93m95: Guess: $299.00 Truth: $249.00 Error: $50.00 SLE: 0.03 Item: TECHART TZE-01 Auto ...\u001b[0m\n",
            "\u001b[91m96: Guess: $25.00 Truth: $146.00 Error: $121.00 SLE: 3.00 Item: Omnipure Q5605, (2) ...\u001b[0m\n",
            "\u001b[91m97: Guess: $25.00 Truth: $295.98 Error: $270.98 SLE: 5.93 Item: YHTAUTO Set of 2 Tru...\u001b[0m\n",
            "\u001b[91m98: Guess: $25.00 Truth: $183.53 Error: $158.53 SLE: 3.84 Item: Durovent with Baffle...\u001b[0m\n",
            "\u001b[91m99: Guess: $1,999.00 Truth: $388.99 Error: $1,610.01 SLE: 2.67 Item: JaboEquip, Larger 3 ...\u001b[0m\n",
            "\u001b[91m100: Guess: $25.00 Truth: $127.99 Error: $102.99 SLE: 2.57 Item: 4 Pack 202A | CF500A...\u001b[0m\n",
            "\u001b[91m101: Guess: $25.00 Truth: $242.04 Error: $217.04 SLE: 5.00 Item: TYC Alternator Compa...\u001b[0m\n",
            "\u001b[91m102: Guess: $1,999.00 Truth: $589.00 Error: $1,410.00 SLE: 1.49 Item: X-PRO Bolt 125cc Zon...\u001b[0m\n",
            "\u001b[92m103: Guess: $299.00 Truth: $336.99 Error: $37.99 SLE: 0.01 Item: Heavy Duty Truck Cod...\u001b[0m\n",
            "\u001b[92m104: Guess: $25.00 Truth: $39.95 Error: $14.95 SLE: 0.21 Item: Replacement Remote C...\u001b[0m\n",
            "\u001b[91m105: Guess: $25.00 Truth: $142.99 Error: $117.99 SLE: 2.93 Item: wall26 - Cat Face wi...\u001b[0m\n",
            "\u001b[92m106: Guess: $25.00 Truth: $29.36 Error: $4.36 SLE: 0.02 Item: Brewster Brassica Or...\u001b[0m\n",
            "\u001b[91m107: Guess: $1,999.00 Truth: $439.00 Error: $1,560.00 SLE: 2.29 Item: HP 2021 15.6 HD Micr...\u001b[0m\n",
            "\u001b[91m108: Guess: $60.00 Truth: $269.96 Error: $209.96 SLE: 2.22 Item: VooDoo Industries Bl...\u001b[0m\n",
            "\u001b[91m109: Guess: $25.00 Truth: $395.62 Error: $370.62 SLE: 7.42 Item: Florida Glass Privac...\u001b[0m\n",
            "\u001b[91m110: Guess: $1,800.00 Truth: $948.00 Error: $852.00 SLE: 0.41 Item: Sony Alpha E-Mount F...\u001b[0m\n",
            "\u001b[91m111: Guess: $1,800.00 Truth: $137.99 Error: $1,662.01 SLE: 6.56 Item: marddpair Driver Sid...\u001b[0m\n",
            "\u001b[92m112: Guess: $1.50 Truth: $6.99 Error: $5.49 SLE: 1.35 Item: Amscan Costume Acces...\u001b[0m\n",
            "\u001b[91m113: Guess: $1,800.00 Truth: $532.00 Error: $1,268.00 SLE: 1.48 Item: Rev9 Hyper-Street II...\u001b[0m\n",
            "\u001b[93m114: Guess: $110.00 Truth: $155.95 Error: $45.95 SLE: 0.12 Item: Mishimoto Replacemen...\u001b[0m\n",
            "\u001b[91m115: Guess: $25.99 Truth: $259.03 Error: $233.04 SLE: 5.13 Item: Reese Towpower 77112...\u001b[0m\n",
            "\u001b[91m116: Guess: $1,800.00 Truth: $649.99 Error: $1,150.01 SLE: 1.04 Item: Topcon RL-H5A Self L...\u001b[0m\n",
            "\u001b[93m117: Guess: $7.50 Truth: $77.95 Error: $70.45 SLE: 4.97 Item: Headliner Doctor Foa...\u001b[0m\n",
            "\u001b[93m118: Guess: $220.00 Truth: $142.58 Error: $77.42 SLE: 0.19 Item: Detroit Axle - 320mm...\u001b[0m\n",
            "\u001b[91m119: Guess: $25.00 Truth: $303.95 Error: $278.95 SLE: 6.06 Item: Kawasaki VN1700 Voya...\u001b[0m\n",
            "\u001b[93m120: Guess: $299.00 Truth: $399.99 Error: $100.99 SLE: 0.08 Item: Teac Turntable (Waln...\u001b[0m\n",
            "\u001b[91m121: Guess: $25.00 Truth: $230.42 Error: $205.42 SLE: 4.78 Item: 80 cu/ft Oxygen Weld...\u001b[0m\n",
            "\u001b[91m122: Guess: $1,800.00 Truth: $177.78 Error: $1,622.22 SLE: 5.34 Item: Preset, Pre-Greased ...\u001b[0m\n",
            "\u001b[91m123: Guess: $1,800.00 Truth: $271.81 Error: $1,528.19 SLE: 3.56 Item: LA Choppers 1 1/4in....\u001b[0m\n",
            "\u001b[91m124: Guess: $299.00 Truth: $725.00 Error: $426.00 SLE: 0.78 Item: Rega io Integrated A...\u001b[0m\n",
            "\u001b[92m125: Guess: $25.00 Truth: $59.15 Error: $34.15 SLE: 0.70 Item: Trans Globe Lighting...\u001b[0m\n",
            "\u001b[93m126: Guess: $25.00 Truth: $96.88 Error: $71.88 SLE: 1.76 Item: Dorman Brake Master ...\u001b[0m\n",
            "\u001b[91m127: Guess: $1,800.00 Truth: $444.98 Error: $1,355.02 SLE: 1.95 Item: 10 Vampire Gloss Bla...\u001b[0m\n",
            "\u001b[91m128: Guess: $1,800.00 Truth: $196.85 Error: $1,603.15 SLE: 4.88 Item: Trail Ridge Towing M...\u001b[0m\n",
            "\u001b[93m129: Guess: $59.99 Truth: $136.95 Error: $76.96 SLE: 0.67 Item: Hunter Fan 44 inch L...\u001b[0m\n",
            "\u001b[91m130: Guess: $25.00 Truth: $228.39 Error: $203.39 SLE: 4.74 Item: Dunlop American Elit...\u001b[0m\n",
            "\u001b[93m131: Guess: $299.00 Truth: $469.99 Error: $170.99 SLE: 0.20 Item: eufy Security, eufyC...\u001b[0m\n",
            "\u001b[93m132: Guess: $110.00 Truth: $151.21 Error: $41.21 SLE: 0.10 Item: Monroe Shocks & Stru...\u001b[0m\n",
            "\u001b[91m133: Guess: $25.00 Truth: $159.00 Error: $134.00 SLE: 3.30 Item: Metabo HPT Die Grind...\u001b[0m\n",
            "\u001b[92m134: Guess: $25.00 Truth: $59.99 Error: $34.99 SLE: 0.73 Item: Casio Exilim EX-G1 C...\u001b[0m\n",
            "\u001b[93m135: Guess: $7.00 Truth: $54.94 Error: $47.94 SLE: 3.78 Item: Sony Neckstrap with ...\u001b[0m\n",
            "\u001b[91m136: Guess: $1,800.00 Truth: $559.00 Error: $1,241.00 SLE: 1.36 Item: Colson 9 Light Chand...\u001b[0m\n",
            "\u001b[93m137: Guess: $25.00 Truth: $83.99 Error: $58.99 SLE: 1.40 Item: KOLSOL Digital Protr...\u001b[0m\n",
            "\u001b[91m138: Guess: $7.99 Truth: $113.99 Error: $106.00 SLE: 6.50 Item: Surco DH1002 Deluxe ...\u001b[0m\n",
            "\u001b[93m139: Guess: $19.99 Truth: $75.99 Error: $56.00 SLE: 1.69 Item: Kastar 2 Pack Batter...\u001b[0m\n",
            "\u001b[91m140: Guess: $25.00 Truth: $263.98 Error: $238.98 SLE: 5.39 Item: Sony XB40 Portable W...\u001b[0m\n",
            "\u001b[92m141: Guess: $25.99 Truth: $27.89 Error: $1.90 SLE: 0.00 Item: VEELIKE Metallic Gol...\u001b[0m\n",
            "\u001b[93m142: Guess: $599.00 Truth: $799.99 Error: $200.99 SLE: 0.08 Item: VIZIO M-Series 55 Cl...\u001b[0m\n",
            "\u001b[91m143: Guess: $1,800.00 Truth: $356.00 Error: $1,444.00 SLE: 2.62 Item: Nautical Floor Stand...\u001b[0m\n",
            "\u001b[93m144: Guess: $220.00 Truth: $278.00 Error: $58.00 SLE: 0.05 Item: Magnaflow 22832- Dir...\u001b[0m\n",
            "\u001b[91m145: Guess: $25.00 Truth: $243.38 Error: $218.38 SLE: 5.02 Item: Fia Inc. GRAY Seat C...\u001b[0m\n",
            "\u001b[91m146: Guess: $299.00 Truth: $499.00 Error: $200.00 SLE: 0.26 Item: Sony Wireless Surrou...\u001b[0m\n",
            "\u001b[91m147: Guess: $25.00 Truth: $250.99 Error: $225.99 SLE: 5.16 Item: EPARTS Red Lens Full...\u001b[0m\n",
            "\u001b[92m148: Guess: $7.99 Truth: $18.99 Error: $11.00 SLE: 0.64 Item: WAYLLSHINE (Pack of ...\u001b[0m\n",
            "\u001b[91m149: Guess: $299.99 Truth: $167.95 Error: $132.04 SLE: 0.33 Item: CarCovers Weatherpro...\u001b[0m\n",
            "\u001b[91m150: Guess: $1,800.00 Truth: $129.00 Error: $1,671.00 SLE: 6.91 Item: Bill Counter with Co...\u001b[0m\n",
            "\u001b[92m151: Guess: $299.00 Truth: $259.99 Error: $39.01 SLE: 0.02 Item: Milwaukee M12 FUEL 1...\u001b[0m\n",
            "\u001b[91m152: Guess: $1,800.00 Truth: $192.99 Error: $1,607.01 SLE: 4.97 Item: 1x Front Air Suspens...\u001b[0m\n",
            "\u001b[91m153: Guess: $25.00 Truth: $137.00 Error: $112.00 SLE: 2.79 Item: DTA 2 Front CV Axles...\u001b[0m\n",
            "\u001b[92m154: Guess: $19.99 Truth: $32.94 Error: $12.95 SLE: 0.23 Item: Ravensburger Minecra...\u001b[0m\n",
            "\u001b[91m155: Guess: $1,800.00 Truth: $273.95 Error: $1,526.05 SLE: 3.53 Item: APS iBoard (Black Po...\u001b[0m\n",
            "\u001b[91m156: Guess: $1,800.00 Truth: $809.99 Error: $990.01 SLE: 0.64 Item: Bestop Black Twill F...\u001b[0m\n",
            "\u001b[91m157: Guess: $1.00 Truth: $303.63 Error: $302.63 SLE: 25.26 Item: Chicago Replacement ...\u001b[0m\n",
            "\u001b[91m158: Guess: $25.00 Truth: $117.59 Error: $92.59 SLE: 2.30 Item: Duro Front/Rear Tire...\u001b[0m\n",
            "\u001b[92m159: Guess: $25.00 Truth: $35.55 Error: $10.55 SLE: 0.12 Item: Black Full-Motion Ti...\u001b[0m\n",
            "\u001b[91m160: Guess: $299.99 Truth: $199.99 Error: $100.00 SLE: 0.16 Item: 70mai Dash Cam Omni,...\u001b[0m\n",
            "\u001b[91m161: Guess: $1,800.00 Truth: $194.99 Error: $1,605.01 SLE: 4.92 Item: Westin Automotive Pr...\u001b[0m\n",
            "\u001b[91m162: Guess: $299.99 Truth: $794.95 Error: $494.96 SLE: 0.95 Item: Panasonic HC-VX1 4K ...\u001b[0m\n",
            "\u001b[91m163: Guess: $25.00 Truth: $139.74 Error: $114.74 SLE: 2.85 Item: Suzuki Promaster Val...\u001b[0m\n",
            "\u001b[91m164: Guess: $25.00 Truth: $213.19 Error: $188.19 SLE: 4.45 Item: American Standard Sh...\u001b[0m\n",
            "\u001b[91m165: Guess: $1,800.00 Truth: $869.99 Error: $930.01 SLE: 0.53 Item: JBL Bags Flight Case...\u001b[0m\n",
            "\u001b[92m166: Guess: $19.99 Truth: $55.99 Error: $36.00 SLE: 1.00 Item: AGS World's Most Adv...\u001b[0m\n",
            "\u001b[92m167: Guess: $220.00 Truth: $220.95 Error: $0.95 SLE: 0.00 Item: ZMAUTOPARTS LED Halo...\u001b[0m\n",
            "\u001b[91m168: Guess: $25.00 Truth: $194.99 Error: $169.99 SLE: 4.08 Item: Flex-a-lite 39624 Bl...\u001b[0m\n",
            "\u001b[93m169: Guess: $299.99 Truth: $244.98 Error: $55.01 SLE: 0.04 Item: Power Stop K789 Fron...\u001b[0m\n",
            "\u001b[92m170: Guess: $19.99 Truth: $38.99 Error: $19.00 SLE: 0.42 Item: AUTOVIZION H1 LED He...\u001b[0m\n",
            "\u001b[91m171: Guess: $299.99 Truth: $589.65 Error: $289.66 SLE: 0.45 Item: Technical Pro 6000w ...\u001b[0m\n",
            "\u001b[92m172: Guess: $25.99 Truth: $47.80 Error: $21.81 SLE: 0.35 Item: BRIGHTFOCAL New LCD ...\u001b[0m\n",
            "\u001b[91m173: Guess: $25.00 Truth: $149.99 Error: $124.99 SLE: 3.09 Item: Coxreels Series Stee...\u001b[0m\n",
            "\u001b[93m174: Guess: $220.00 Truth: $358.00 Error: $138.00 SLE: 0.24 Item: Magnaflow 23395- Dir...\u001b[0m\n",
            "\u001b[93m175: Guess: $25.00 Truth: $77.45 Error: $52.45 SLE: 1.22 Item: New-Call Recorder/So...\u001b[0m\n",
            "\u001b[91m176: Guess: $89.99 Truth: $188.78 Error: $98.79 SLE: 0.54 Item: Power Stop Autospeci...\u001b[0m\n",
            "\u001b[92m177: Guess: $7.99 Truth: $10.99 Error: $3.00 SLE: 0.08 Item: HMTECHUS Moto G7 Pla...\u001b[0m\n",
            "\u001b[92m178: Guess: $1.50 Truth: $14.97 Error: $13.47 SLE: 3.44 Item: Pink Bicycle Playing...\u001b[0m\n",
            "\u001b[91m179: Guess: $25.00 Truth: $124.48 Error: $99.48 SLE: 2.48 Item: E-Net Components SFP...\u001b[0m\n",
            "\u001b[91m180: Guess: $1,800.00 Truth: $237.45 Error: $1,562.55 SLE: 4.09 Item: Detroit Axle - Front...\u001b[0m\n",
            "\u001b[91m181: Guess: $1,800.00 Truth: $469.94 Error: $1,330.06 SLE: 1.80 Item: HP Laserjet Enterpri...\u001b[0m\n",
            "\u001b[91m182: Guess: $25.00 Truth: $218.95 Error: $193.95 SLE: 4.56 Item: MCSADVENTURES Plug a...\u001b[0m\n",
            "\u001b[91m183: Guess: $25.00 Truth: $670.00 Error: $645.00 SLE: 10.57 Item: Z-Lite Aspen - 1 Lig...\u001b[0m\n",
            "\u001b[92m184: Guess: $25.00 Truth: $47.57 Error: $22.57 SLE: 0.39 Item: Jensen Home CD Playe...\u001b[0m\n",
            "\u001b[91m185: Guess: $1,800.00 Truth: $500.70 Error: $1,299.30 SLE: 1.63 Item: ROBERTS 10-237 Junio...\u001b[0m\n",
            "\u001b[91m186: Guess: $299.99 Truth: $587.11 Error: $287.12 SLE: 0.45 Item: Xerox Phaser Wireles...\u001b[0m\n",
            "\u001b[93m187: Guess: $220.00 Truth: $353.57 Error: $133.57 SLE: 0.22 Item: DB Electrical High O...\u001b[0m\n",
            "\u001b[92m188: Guess: $19.99 Truth: $53.80 Error: $33.81 SLE: 0.92 Item: Panasonic Extra Hand...\u001b[0m\n",
            "\u001b[91m189: Guess: $1,800.00 Truth: $864.93 Error: $935.07 SLE: 0.54 Item: Set of 4 (FOUR) Haid...\u001b[0m\n",
            "\u001b[91m190: Guess: $1,800.00 Truth: $58.61 Error: $1,741.39 SLE: 11.62 Item: HP 12GB DL380 GEN 9 ...\u001b[0m\n",
            "\u001b[91m191: Guess: $299.00 Truth: $151.99 Error: $147.01 SLE: 0.45 Item: Samsung Galaxy A32 4...\u001b[0m\n",
            "\u001b[91m192: Guess: $1,999.00 Truth: $315.98 Error: $1,683.02 SLE: 3.39 Item: Microscope for Adult...\u001b[0m\n",
            "\u001b[91m193: Guess: $19.99 Truth: $299.95 Error: $279.96 SLE: 7.09 Item: Monster High 13 Wish...\u001b[0m\n",
            "\u001b[92m194: Guess: $7.99 Truth: $22.77 Error: $14.78 SLE: 0.95 Item: TOMOON Exclusive Whi...\u001b[0m\n",
            "\u001b[91m195: Guess: $1,800.00 Truth: $135.99 Error: $1,664.01 SLE: 6.64 Item: Crash Parts Plus Pri...\u001b[0m\n",
            "\u001b[91m196: Guess: $25.99 Truth: $187.45 Error: $161.46 SLE: 3.78 Item: Hominter Glass Stone...\u001b[0m\n",
            "\u001b[92m197: Guess: $7.99 Truth: $33.47 Error: $25.48 SLE: 1.81 Item: VESSEL Ball Point He...\u001b[0m\n",
            "\u001b[91m198: Guess: $1,800.00 Truth: $211.98 Error: $1,588.02 SLE: 4.56 Item: FIA BLACK Custom Fit...\u001b[0m\n",
            "\u001b[93m199: Guess: $25.00 Truth: $79.04 Error: $54.04 SLE: 1.26 Item: Sloan 362040 Control...\u001b[0m\n",
            "\u001b[91m200: Guess: $25.00 Truth: $539.69 Error: $514.69 SLE: 9.21 Item: Geartronics 3/4 to 1...\u001b[0m\n",
            "\u001b[92m201: Guess: $299.00 Truth: $271.94 Error: $27.06 SLE: 0.01 Item: Activity Park, Play ...\u001b[0m\n",
            "\u001b[91m202: Guess: $1,800.00 Truth: $61.99 Error: $1,738.01 SLE: 11.24 Item: Set of 8 DG508 Ignit...\u001b[0m\n",
            "\u001b[91m203: Guess: $59.99 Truth: $191.99 Error: $132.00 SLE: 1.33 Item: CURT 122413 Class 2 ...\u001b[0m\n",
            "\u001b[92m204: Guess: $25.00 Truth: $48.95 Error: $23.95 SLE: 0.43 Item: Kupo Rear Mounting P...\u001b[0m\n",
            "\u001b[93m205: Guess: $59.99 Truth: $109.99 Error: $50.00 SLE: 0.36 Item: Samsung Galaxy Tab A...\u001b[0m\n",
            "\u001b[93m206: Guess: $89.99 Truth: $139.00 Error: $49.01 SLE: 0.19 Item: SAMSUNG Galaxy Tab E...\u001b[0m\n",
            "\u001b[91m207: Guess: $25.00 Truth: $146.95 Error: $121.95 SLE: 3.02 Item: 5 Pack Lithium-ion B...\u001b[0m\n",
            "\u001b[91m208: Guess: $299.00 Truth: $210.00 Error: $89.00 SLE: 0.12 Item: Moto G 5G Plus Euro ...\u001b[0m\n",
            "\u001b[91m209: Guess: $1,800.00 Truth: $307.84 Error: $1,492.16 SLE: 3.11 Item: Toyo Tire Open Count...\u001b[0m\n",
            "\u001b[92m210: Guess: $19.99 Truth: $31.99 Error: $12.00 SLE: 0.20 Item: Splatter Ball Gun El...\u001b[0m\n",
            "\u001b[92m211: Guess: $7.48 Truth: $7.56 Error: $0.08 SLE: 0.00 Item: Gorilla All Purpose ...\u001b[0m\n",
            "\u001b[91m212: Guess: $1,800.00 Truth: $258.49 Error: $1,541.51 SLE: 3.75 Item: Puri Tech Replacemen...\u001b[0m\n",
            "\u001b[91m213: Guess: $1,800.00 Truth: $899.97 Error: $900.03 SLE: 0.48 Item: Dell Computer Color ...\u001b[0m\n",
            "\u001b[92m214: Guess: $60.00 Truth: $82.75 Error: $22.75 SLE: 0.10 Item: OLIGHT Baton3 Pro 15...\u001b[0m\n",
            "\u001b[93m215: Guess: $19.99 Truth: $69.99 Error: $50.00 SLE: 1.48 Item: Sangyue 2X Oxygen O2...\u001b[0m\n",
            "\u001b[93m216: Guess: $25.00 Truth: $96.71 Error: $71.71 SLE: 1.75 Item: Kaiyodo Revoltech Se...\u001b[0m\n",
            "\u001b[92m217: Guess: $299.00 Truth: $329.99 Error: $30.99 SLE: 0.01 Item: Radial Engineering J...\u001b[0m\n",
            "\u001b[91m218: Guess: $299.99 Truth: $78.10 Error: $221.89 SLE: 1.79 Item: Ultra Slim Smartphon...\u001b[0m\n",
            "\u001b[91m219: Guess: $299.00 Truth: $209.00 Error: $90.00 SLE: 0.13 Item: Dell Latitude E7240 ...\u001b[0m\n",
            "\u001b[92m220: Guess: $7.99 Truth: $19.99 Error: $12.00 SLE: 0.72 Item: VViViD 3M Rust Proof...\u001b[0m\n",
            "\u001b[92m221: Guess: $7.99 Truth: $21.99 Error: $14.00 SLE: 0.88 Item: GARDYUE 4 Pack Cork ...\u001b[0m\n",
            "\u001b[91m222: Guess: $25.00 Truth: $288.75 Error: $263.75 SLE: 5.81 Item: Stabila 48296 Mason ...\u001b[0m\n",
            "\u001b[92m223: Guess: $89.99 Truth: $84.99 Error: $5.00 SLE: 0.00 Item: LCF Countertop Water...\u001b[0m\n",
            "\u001b[91m224: Guess: $25.00 Truth: $249.95 Error: $224.95 SLE: 5.14 Item: Spin Master Hatchima...\u001b[0m\n",
            "\u001b[91m225: Guess: $1,999.00 Truth: $899.99 Error: $1,099.01 SLE: 0.64 Item: Lenovo Legion Y520 G...\u001b[0m\n",
            "\u001b[92m226: Guess: $7.50 Truth: $45.99 Error: $38.49 SLE: 2.92 Item: TR Industrial Multi-...\u001b[0m\n",
            "\u001b[91m227: Guess: $25.00 Truth: $144.07 Error: $119.07 SLE: 2.96 Item: Dometic RV Thermosta...\u001b[0m\n",
            "\u001b[91m228: Guess: $1,800.00 Truth: $249.95 Error: $1,550.05 SLE: 3.88 Item: Superlift | 9750 | 1...\u001b[0m\n",
            "\u001b[91m229: Guess: $1,800.00 Truth: $225.00 Error: $1,575.00 SLE: 4.31 Item: Epson 8G7263 BrightL...\u001b[0m\n",
            "\u001b[91m230: Guess: $1,800.00 Truth: $256.30 Error: $1,543.70 SLE: 3.79 Item: R1 Concepts Front Re...\u001b[0m\n",
            "\u001b[91m231: Guess: $1,800.00 Truth: $306.11 Error: $1,493.89 SLE: 3.13 Item: For Headlight 06-08 ...\u001b[0m\n",
            "\u001b[91m232: Guess: $25.00 Truth: $208.95 Error: $183.95 SLE: 4.36 Item: WAC Landscape Lighti...\u001b[0m\n",
            "\u001b[91m233: Guess: $25.00 Truth: $130.99 Error: $105.99 SLE: 2.64 Item: FARNEW Hello Gorgeou...\u001b[0m\n",
            "\u001b[91m234: Guess: $1,800.00 Truth: $398.05 Error: $1,401.95 SLE: 2.27 Item: Fuel Offroad D567 Le...\u001b[0m\n",
            "\u001b[92m235: Guess: $19.99 Truth: $12.98 Error: $7.01 SLE: 0.17 Item: Partsam Red/white Tr...\u001b[0m\n",
            "\u001b[91m236: Guess: $25.00 Truth: $193.86 Error: $168.86 SLE: 4.06 Item: Draw-Tite 75647 Max-...\u001b[0m\n",
            "\u001b[91m237: Guess: $299.00 Truth: $589.00 Error: $290.00 SLE: 0.46 Item: Signature Hardware 4...\u001b[0m\n",
            "\u001b[91m238: Guess: $299.99 Truth: $139.63 Error: $160.36 SLE: 0.58 Item: Garmin Striker 4 wit...\u001b[0m\n",
            "\u001b[92m239: Guess: $19.99 Truth: $18.99 Error: $1.00 SLE: 0.00 Item: JOYIN 30 Pcs Diving ...\u001b[0m\n",
            "\u001b[91m240: Guess: $1,800.00 Truth: $532.00 Error: $1,268.00 SLE: 1.48 Item: Rev9 compatible with...\u001b[0m\n",
            "\u001b[93m241: Guess: $1.00 Truth: $50.73 Error: $49.73 SLE: 10.58 Item: Easy Peel Mailing Ad...\u001b[0m\n",
            "\u001b[91m242: Guess: $1,800.00 Truth: $166.95 Error: $1,633.05 SLE: 5.63 Item: R&B Wire™ 100T Front...\u001b[0m\n",
            "\u001b[93m243: Guess: $7.50 Truth: $82.41 Error: $74.91 SLE: 5.22 Item: Ingersoll Rand Air R...\u001b[0m\n",
            "\u001b[91m244: Guess: $1,800.00 Truth: $640.00 Error: $1,160.00 SLE: 1.07 Item: Tanabe T80005 Medali...\u001b[0m\n",
            "\u001b[93m245: Guess: $25.00 Truth: $69.00 Error: $44.00 SLE: 0.98 Item: Urth Lens Mount Adap...\u001b[0m\n",
            "\u001b[91m246: Guess: $1,800.00 Truth: $985.99 Error: $814.01 SLE: 0.36 Item: u-Box JK Rugged Off ...\u001b[0m\n",
            "\u001b[91m247: Guess: $1,800.00 Truth: $276.36 Error: $1,523.64 SLE: 3.50 Item: HP EliteBook Folio 1...\u001b[0m\n",
            "\u001b[93m248: Guess: $25.00 Truth: $80.84 Error: $55.84 SLE: 1.31 Item: Whirlpool Part Numbe...\u001b[0m\n",
            "\u001b[92m249: Guess: $89.99 Truth: $82.90 Error: $7.09 SLE: 0.01 Item: ADATA SD600Q 480GB E...\u001b[0m\n",
            "\u001b[91m250: Guess: $25.00 Truth: $264.69 Error: $239.69 SLE: 5.40 Item: 120AMP MIG130 110V F...\u001b[0m\n"
          ]
        },
        {
          "output_type": "display_data",
          "data": {
            "text/plain": [
              "<Figure size 1200x800 with 1 Axes>"
            ],
            "image/png": "[encoded data removed]"
          },
          "metadata": {}
        }
      ]
    },
    {
      "cell_type": "code",
      "source": [],
      "metadata": {
        "id": "mNG7WnKXJA3Z"
      },
      "execution_count": null,
      "outputs": []
    }
  ]
}